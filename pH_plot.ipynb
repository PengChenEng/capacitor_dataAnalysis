{
 "cells": [
  {
   "cell_type": "code",
   "execution_count": 2,
   "metadata": {},
   "outputs": [
    {
     "ename": "NameError",
     "evalue": "name 'np' is not defined",
     "output_type": "error",
     "traceback": [
      "\u001b[0;31m---------------------------------------------------------------------------\u001b[0m",
      "\u001b[0;31mNameError\u001b[0m                                 Traceback (most recent call last)",
      "\u001b[0;32m<ipython-input-2-3462be2fa73d>\u001b[0m in \u001b[0;36m<module>\u001b[0;34m\u001b[0m\n\u001b[1;32m     20\u001b[0m \u001b[0;34m\u001b[0m\u001b[0m\n\u001b[1;32m     21\u001b[0m \u001b[0;31m# 3rd-order polynomial fitting\u001b[0m\u001b[0;34m\u001b[0m\u001b[0;34m\u001b[0m\u001b[0m\n\u001b[0;32m---> 22\u001b[0;31m \u001b[0mz1\u001b[0m \u001b[0;34m=\u001b[0m \u001b[0mnp\u001b[0m\u001b[0;34m.\u001b[0m\u001b[0mpolyfit\u001b[0m\u001b[0;34m(\u001b[0m\u001b[0mx1\u001b[0m\u001b[0;34m,\u001b[0m \u001b[0my1\u001b[0m\u001b[0;34m,\u001b[0m \u001b[0;36m3\u001b[0m\u001b[0;34m)\u001b[0m\u001b[0;34m\u001b[0m\u001b[0m\n\u001b[0m\u001b[1;32m     23\u001b[0m \u001b[0mp1\u001b[0m \u001b[0;34m=\u001b[0m \u001b[0mnp\u001b[0m\u001b[0;34m.\u001b[0m\u001b[0mpoly1d\u001b[0m\u001b[0;34m(\u001b[0m\u001b[0mz1\u001b[0m\u001b[0;34m)\u001b[0m\u001b[0;34m\u001b[0m\u001b[0m\n\u001b[1;32m     24\u001b[0m \u001b[0;34m\u001b[0m\u001b[0m\n",
      "\u001b[0;31mNameError\u001b[0m: name 'np' is not defined"
     ]
    }
   ],
   "source": [
    "import csv\n",
    "from numpy import genfromtxt\n",
    "import matplotlib.pyplot as plt\n",
    "fd = genfromtxt('fW.csv', delimiter='\\t')\n",
    "x = []\n",
    "y = []\n",
    "for i in range(len(fd)):\n",
    "    x.append(fd[i][0])\n",
    "    y.append(fd[i][1])\n",
    "# only fit data in certain range\n",
    "x1,y1,x2,y2 = [],[],[],[]\n",
    "isLess12 = list(map(lambda i:i< 11.5, x))\n",
    "for i in range(len(x)):\n",
    "    if isLess12[i]:\n",
    "        x1.append(x[i])\n",
    "        y1.append(y[i])\n",
    "    else:\n",
    "        x2.append(x[i])\n",
    "        y2.append(y[i])\n",
    "\n",
    "# 3rd-order polynomial fitting\n",
    "z1 = np.polyfit(x1, y1, 3)\n",
    "p1 = np.poly1d(z1)\n",
    "\n",
    "xp1 = np.linspace(0, 11.5, 1000)\n",
    "maxpH = 0\n",
    "for i in range(len(xp1)):\n",
    "    if p1(xp1[i]) >= p1(maxpH):\n",
    "        maxpH = xp1[i]\n",
    "maxAn = p1(maxpH)\n",
    "print(maxpH, maxAn)\n",
    "z2 = np.polyfit(x2, y2, 1)\n",
    "p2 = np.poly1d(z2)\n",
    "xp2 = np.linspace(11.5, 13, 10)\n",
    "\n",
    "_ = plt.plot(xp1, p1(xp1), '-', xp2, p2(xp2), '--')\n",
    "plt.scatter(x,y)\n",
    "plt.xlabel('pH_value')\n",
    "plt.ylabel('contact angle')\n",
    "plt.savefig(\"fW_2.png\")"
   ]
  },
  {
   "cell_type": "code",
   "execution_count": 3,
   "metadata": {},
   "outputs": [
    {
     "name": "stdout",
     "output_type": "stream",
     "text": [
      "[-52.73 -53.05 -53.2  -52.33 -53.88 -57.61 -55.81 -52.67 -63.49 -61.73\n",
      " -63.96 -53.8  -62.69]\n",
      "[0.60557181 0.60111785 0.5990236  0.61111267 0.58947836 0.53567942\n",
      " 0.56193902 0.60640483 0.446354   0.47362713 0.43899852 0.59060567\n",
      " 0.45880464]\n",
      "[-25.99204929 -31.44701003 -32.89160114 -15.41205187 -29.83029792\n",
      "  17.89008685  26.60532539 -24.64242956  28.39787741  16.65147244\n",
      "  15.83386344 -30.9922961   35.28360357]\n"
     ]
    }
   ],
   "source": [
    "import csv\n",
    "from numpy import genfromtxt\n",
    "import numpy as np\n",
    "import matplotlib.pyplot as plt\n",
    "fd = genfromtxt('pt.csv', delimiter='\\t')\n",
    "x = [] # pH\n",
    "y = [] # contact angle\n",
    "for i in range(len(fd)):\n",
    "    x.append(fd[i][0])\n",
    "    y.append(fd[i][1])\n",
    "r = 0.07199 # N/m\n",
    "maxAngle = 64.61\n",
    "d = 0.9*10**(-9) # debye length in 0.1M KCl\n",
    "k = 1.38 *10**(-23) # J/K\n",
    "T = 298 # Kelvin\n",
    "e0 = 8.85 * 10**(-12) # F/m\n",
    "er = 80\n",
    "e = 1.6*10**(-19) # C\n",
    "z = 1 # valency\n",
    "a = 4*((k*T)**2)*e0*er/(d*e**2) # first term on the right hand\n",
    "\n",
    "x = np.array(x)\n",
    "print(x-maxAngle)\n",
    "print(np.cos((x - maxAngle)* np.pi / 180.))\n",
    "print(1+r*np.cos(x - maxAngle)/a)\n",
    "    "
   ]
  },
  {
   "cell_type": "code",
   "execution_count": 4,
   "metadata": {},
   "outputs": [
    {
     "name": "stdout",
     "output_type": "stream",
     "text": [
      "6.493493493493493 65.89115288391872\n"
     ]
    },
    {
     "data": {
      "image/png": "[encoded data removed]",
      "text/plain": [
       "<Figure size 432x288 with 1 Axes>"
      ]
     },
     "metadata": {
      "needs_background": "light"
     },
     "output_type": "display_data"
    }
   ],
   "source": [
    "import csv\n",
    "from numpy import genfromtxt\n",
    "import matplotlib.pyplot as plt\n",
    "fd = genfromtxt('pt.csv', delimiter='\\t')\n",
    "x = []\n",
    "y = []\n",
    "for i in range(len(fd)):\n",
    "    x.append(fd[i][0])\n",
    "    y.append(fd[i][1])\n",
    "# only fit data in certain range\n",
    "x1,y1 = [],[]\n",
    "\n",
    "for i in range(len(x)):\n",
    "    x1.append(x[i])\n",
    "    y1.append(y[i])\n",
    "\n",
    "# 3rd-order polynomial fitting\n",
    "z1 = np.polyfit(x1, y1, 3)\n",
    "p1 = np.poly1d(z1)\n",
    "\n",
    "xp1 = np.linspace(0, 13, 1000)\n",
    "maxpH = 0\n",
    "for i in range(len(xp1)):\n",
    "    if p1(xp1[i]) >= p1(maxpH):\n",
    "        maxpH = xp1[i]\n",
    "maxAn = p1(maxpH)\n",
    "print(maxpH, maxAn)\n",
    "\n",
    "_ = plt.plot(xp1, p1(xp1), '-')\n",
    "plt.scatter(x,y)\n",
    "plt.xlabel('pH_value')\n",
    "plt.ylabel('contact angle')\n",
    "plt.savefig(\"pt_1.png\")"
   ]
  },
  {
   "cell_type": "code",
   "execution_count": 5,
   "metadata": {},
   "outputs": [
    {
     "name": "stdout",
     "output_type": "stream",
     "text": [
      "[-43.84 -18.94  -8.44 -17.74 -10.54 -42.34  -0.74 -19.24  -5.34  -4.84\n",
      " -12.24  -9.34  -5.24]\n"
     ]
    },
    {
     "data": {
      "image/png": "[encoded data removed]",
      "text/plain": [
       "<Figure size 432x288 with 1 Axes>"
      ]
     },
     "metadata": {
      "needs_background": "light"
     },
     "output_type": "display_data"
    }
   ],
   "source": [
    "import csv\n",
    "from numpy import genfromtxt\n",
    "import numpy as np\n",
    "import matplotlib.pyplot as plt\n",
    "fd = genfromtxt('mW.csv', delimiter='\\t')\n",
    "x = [] # pH\n",
    "y = [] # contact angle\n",
    "for i in range(len(fd)):\n",
    "    x.append(fd[i][0])\n",
    "    y.append(fd[i][1])\n",
    "r = 0.07199 # N/m\n",
    "maxAngle = 79.84\n",
    "d = 0.9*10**(-9) # debye length in 0.1M KCl\n",
    "k = 1.38 *10**(-23) # J/K\n",
    "T = 298 # Kelvin\n",
    "e0 = 8.85 * 10**(-12) # F/m\n",
    "er = 80\n",
    "e = 1.6*10**(-19) # C\n",
    "z = 1 # valency\n",
    "a = 4*((k*T)**2)*e0*er/(d*e**2) # first term on the right hand\n",
    "\n",
    "y = np.array(y)\n",
    "print(y-maxAngle)\n",
    "left = np.cos((y - maxAngle)* np.pi / 180.)\n",
    "right = np.arccosh(left/a + 1) # second term + 1\n",
    "fi = right*2*k*T/(z*e) # surface potential\n",
    "plt.scatter(x, fi*1000)\n",
    "plt.xlabel('pH_value')\n",
    "plt.ylabel('Surface potential (mV)')\n",
    "plt.savefig(\"mW_1_potential.png\")"
   ]
  },
  {
   "cell_type": "code",
   "execution_count": 14,
   "metadata": {},
   "outputs": [
    {
     "name": "stdout",
     "output_type": "stream",
     "text": [
      "0.002078746232999998\n",
      "[15.26816064 19.68580179 19.32673486 17.27340322 19.6953093  12.40392104\n",
      " 18.01242546  0.          9.72058539 17.79976351 14.56748301 17.57725976\n",
      "  3.11907139]\n"
     ]
    },
    {
     "data": {
      "image/png": "[encoded data removed]",
      "text/plain": [
       "<Figure size 432x288 with 1 Axes>"
      ]
     },
     "metadata": {
      "needs_background": "light"
     },
     "output_type": "display_data"
    }
   ],
   "source": [
    "def pH_charge(name, region, maxAngle):\n",
    "    import csv\n",
    "    from numpy import genfromtxt\n",
    "    import numpy as np\n",
    "    import matplotlib.pyplot as plt\n",
    "    fd = genfromtxt('{sample}.csv'.format(sample = name), delimiter='\\t')\n",
    "    x = [] # pH\n",
    "    y = [] # contact angle\n",
    "    for i in range(len(fd)):\n",
    "        x.append(fd[i][0])\n",
    "        y.append(fd[i][1])\n",
    "    r = 0.07199 # N/m\n",
    "    d = 0.9*10**(-9) # debye length in 0.1M KCl\n",
    "    k = 1.38 *10**(-23) # J/K\n",
    "    T = 298 # Kelvin\n",
    "    e0 = 8.85 * 10**(-12) # F/m\n",
    "    er = 80\n",
    "    e = 1.6*10**(-19) # C\n",
    "    z = 1 # valency\n",
    "    a = 4*((k*T)**2)*e0*er/(d*e**2) # first term on the right hand\n",
    "    print(a)\n",
    "    y = np.array(y)\n",
    "    left = np.cos(y * np.pi / 180.)-np.cos(maxAngle* np.pi / 180.)\n",
    "    for i in range(len(left)):\n",
    "        if left[i] <= 0:\n",
    "            left[i] = 0\n",
    "    print(r*left/a)\n",
    "    right = np.arccosh(r*left/a+1) # second term + 1\n",
    "    fi = right*2*k*T/(z*e) # surface potential\n",
    "    sigma = 2*k*T*e0*er*np.sinh(z*e*fi/(2*k*T))/(z*e*d)\n",
    "    plt.scatter(x, sigma)\n",
    "    plt.xlim(0.5,13)\n",
    "    plt.ylim(-0.1, 1)\n",
    "    plt.xlabel('pH_value')\n",
    "    plt.ylabel('Surface charge density (C/m^2)')\n",
    "    plt.savefig(\"{sample}_{method}_charge.png\".format(sample = name, method = region))\n",
    "#pH_charge('pt', 1, 65.89)\n",
    "#pH_charge('pt', 2, 64.61)\n",
    "pH_charge('fW', 1, 65.23)\n",
    "#pH_charge('fW', 2, 66.40)\n",
    "#pH_charge('mW', 1, 79.84)\n",
    "#pH_charge('mW', 2, 78.66)"
   ]
  },
  {
   "cell_type": "code",
   "execution_count": 12,
   "metadata": {},
   "outputs": [
    {
     "name": "stdout",
     "output_type": "stream",
     "text": [
      "0.002078746232999998\n",
      "[ 0.44087556  0.56843709  0.55806886  0.49877791  0.56871163  0.35816925\n",
      "  0.52011754 -0.01862768  0.28068663  0.51397682  0.42064315  0.50755192\n",
      "  0.0900647 ]\n",
      "[0.44087556 0.56843709 0.55806886 0.49877791 0.56871163 0.35816925\n",
      " 0.52011754 0.         0.28068663 0.51397682 0.42064315 0.50755192\n",
      " 0.0900647 ]\n",
      "[15.26816064 19.68580179 19.32673486 17.27340322 19.6953093  12.40392104\n",
      " 18.01242546  0.          9.72058539 17.79976351 14.56748301 17.57725976\n",
      "  3.11907139]\n"
     ]
    },
    {
     "data": {
      "image/png": "[encoded data removed]",
      "text/plain": [
       "<Figure size 432x288 with 1 Axes>"
      ]
     },
     "metadata": {
      "needs_background": "light"
     },
     "output_type": "display_data"
    }
   ],
   "source": [
    "def pH_potential(name, region, maxAngle):\n",
    "    import csv\n",
    "    from numpy import genfromtxt\n",
    "    import numpy as np\n",
    "    import matplotlib.pyplot as plt\n",
    "    fd = genfromtxt('{sample}.csv'.format(sample = name), delimiter='\\t')\n",
    "    x = [] # pH\n",
    "    y = [] # contact angle\n",
    "    for i in range(len(fd)):\n",
    "        x.append(fd[i][0])\n",
    "        y.append(fd[i][1])\n",
    "    r = 0.07199 # N/m\n",
    "    d = 0.9*10**(-9) # debye length in 0.1M KCl\n",
    "    k = 1.38 *10**(-23) # J/K\n",
    "    T = 298 # Kelvin\n",
    "    e0 = 8.85 * 10**(-12) # F/m\n",
    "    er = 80\n",
    "    e = 1.6*10**(-19) # C\n",
    "    z = 1 # valency\n",
    "    a = 4*((k*T)**2)*e0*er/(d*e**2) # first term on the right hand\n",
    "    print(a)\n",
    "    y = np.array(y)\n",
    "    left = np.cos(y * np.pi / 180.)-np.cos(maxAngle* np.pi / 180.)\n",
    "    print(left)\n",
    "    for i in range(len(left)):\n",
    "        if left[i] <= 0:\n",
    "            left[i] = 0\n",
    "    print(r*left/a)\n",
    "    right = np.arccosh(r*left/a+1) # second term + 1\n",
    "    fi = right*2*k*T/(z*e) # surface potential\n",
    "    #sigma = 2*k*T*e0*er*np.sinh(z*e*fi/(2*k*T))/(z*e*d)\n",
    "    plt.scatter(x, fi*1000)\n",
    "    plt.xlim(0.5,13)\n",
    "    plt.ylim(-10, 300)\n",
    "    plt.xlabel('pH_value')\n",
    "    plt.ylabel('Surface potential (mV)')\n",
    "    plt.savefig(\"{sample}_{method}_potential.png\".format(sample = name, method = region))\n",
    "#pH_potential('pt', 1, 65.89)\n",
    "#pH_potential('pt', 2, 64.61)\n",
    "pH_potential('fW', 1, 65.23)\n",
    "#pH_potential('fW', 2, 66.40)\n",
    "#pH_potential('mW', 1, 79.84)\n",
    "#pH_potential('mW', 2, 78.66)"
   ]
  },
  {
   "cell_type": "code",
   "execution_count": null,
   "metadata": {},
   "outputs": [],
   "source": []
  }
 ],
 "metadata": {
  "kernelspec": {
   "display_name": "Python 3",
   "language": "python",
   "name": "python3"
  },
  "language_info": {
   "codemirror_mode": {
    "name": "ipython",
    "version": 3
   },
   "file_extension": ".py",
   "mimetype": "text/x-python",
   "name": "python",
   "nbconvert_exporter": "python",
   "pygments_lexer": "ipython3",
   "version": "3.6.6"
  }
 },
 "nbformat": 4,
 "nbformat_minor": 2
}
